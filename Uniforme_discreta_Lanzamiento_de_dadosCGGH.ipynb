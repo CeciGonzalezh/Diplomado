{
  "nbformat": 4,
  "nbformat_minor": 0,
  "metadata": {
    "colab": {
      "provenance": [],
      "include_colab_link": true
    },
    "kernelspec": {
      "name": "python3",
      "display_name": "Python 3"
    },
    "language_info": {
      "name": "python"
    }
  },
  "cells": [
    {
      "cell_type": "markdown",
      "metadata": {
        "id": "view-in-github",
        "colab_type": "text"
      },
      "source": [
        "<a href=\"https://colab.research.google.com/github/CeciGonzalezh/Diplomado/blob/main/Uniforme_discreta_Lanzamiento_de_dadosCGGH.ipynb\" target=\"_parent\"><img src=\"https://colab.research.google.com/assets/colab-badge.svg\" alt=\"Open In Colab\"/></a>"
      ]
    },
    {
      "cell_type": "markdown",
      "source": [
        "# Lanzamiento de dos dados"
      ],
      "metadata": {
        "id": "Zc9c6fpH7tOx"
      }
    },
    {
      "cell_type": "markdown",
      "source": [
        "## Diccionarios:\n",
        "\n",
        "$$\\{\\text{key}:\\text{values}\\}.$$"
      ],
      "metadata": {
        "id": "oGwp3O6m76DD"
      }
    },
    {
      "cell_type": "code",
      "execution_count": 15,
      "metadata": {
        "id": "bAXTxjQXsLZp"
      },
      "outputs": [],
      "source": [
        "d = {\"César\": [\"Masha\", \"Mila\", \"Sneg\"],\n",
        "     \"Julio\": [3, 10, 12],\n",
        "     \"Gal\": [7.0, 5.0, 6.0]}"
      ]
    },
    {
      "cell_type": "code",
      "source": [
        "type(d)"
      ],
      "metadata": {
        "colab": {
          "base_uri": "https://localhost:8080/"
        },
        "id": "1U0xkzVA9jC1",
        "outputId": "c07e6937-1e3a-4434-ec25-43b43e9e056d"
      },
      "execution_count": 16,
      "outputs": [
        {
          "output_type": "execute_result",
          "data": {
            "text/plain": [
              "dict"
            ]
          },
          "metadata": {},
          "execution_count": 16
        }
      ]
    },
    {
      "cell_type": "code",
      "source": [
        "d.keys() # Son las llaves de un diccionario"
      ],
      "metadata": {
        "colab": {
          "base_uri": "https://localhost:8080/"
        },
        "id": "CswA0Ax-9vBS",
        "outputId": "f9be9d13-3923-4939-9b9f-ebbc58fe6f13"
      },
      "execution_count": 17,
      "outputs": [
        {
          "output_type": "execute_result",
          "data": {
            "text/plain": [
              "dict_keys(['César', 'Julio', 'Gal'])"
            ]
          },
          "metadata": {},
          "execution_count": 17
        }
      ]
    },
    {
      "cell_type": "code",
      "source": [
        "d.values()"
      ],
      "metadata": {
        "colab": {
          "base_uri": "https://localhost:8080/"
        },
        "id": "vqeYQNbG-vHC",
        "outputId": "9d0ebf1c-d1f2-44e8-8dcc-e0ef0eaf014e"
      },
      "execution_count": 18,
      "outputs": [
        {
          "output_type": "execute_result",
          "data": {
            "text/plain": [
              "dict_values([['Masha', 'Mila', 'Sneg'], [3, 10, 12], [7.0, 5.0, 6.0]])"
            ]
          },
          "metadata": {},
          "execution_count": 18
        }
      ]
    },
    {
      "cell_type": "code",
      "source": [
        "d.items()"
      ],
      "metadata": {
        "colab": {
          "base_uri": "https://localhost:8080/"
        },
        "id": "5UhJcXwg-zoI",
        "outputId": "22f500b7-f969-4c7a-9aa9-3ca82c70f740"
      },
      "execution_count": 19,
      "outputs": [
        {
          "output_type": "execute_result",
          "data": {
            "text/plain": [
              "dict_items([('César', ['Masha', 'Mila', 'Sneg']), ('Julio', [3, 10, 12]), ('Gal', [7.0, 5.0, 6.0])])"
            ]
          },
          "metadata": {},
          "execution_count": 19
        }
      ]
    },
    {
      "cell_type": "markdown",
      "source": [
        "## Se lanzan dos dados justos:\n",
        "\n",
        "- $\\Omega = \\{1,2,3,4,5,6\\}\\times \\{1,2,3,4,5,6 \\}$.\n",
        "- $\\mathcal{F}=p(\\Omega)$.\n",
        "- Para $\\omega=(i,j)$ donde $i, j=1,\\dots, 6$\n",
        "$$\\mathbb{P}(\\{\\omega\\})=\\frac{1}{36}.$$\n",
        "\n",
        "-----\n",
        "\n",
        "## Vamos a definir a la siguiente variable aleatoria:\n",
        "$S$ es la variable aleatoria que cuenta la suma de las caras de los dados.\n",
        "\n",
        "$$S:\\Omega \\to R_{S}=\\{2, 3, 4, 5, 6, 7, 8, 9, 10, 11, 12 \\}$$"
      ],
      "metadata": {
        "id": "0pEgDmSl_zEw"
      }
    },
    {
      "cell_type": "markdown",
      "source": [
        "Para entender a la ley de la variable aleatoria, basta con entender a los siguientes datos:\n",
        "$$\\{(k, \\mathbb{P}(S=k)) \\}_{k\\in R_{S}}.$$"
      ],
      "metadata": {
        "id": "pR4lIByoCm4X"
      }
    },
    {
      "cell_type": "markdown",
      "source": [
        "Veamos a $S$ como eventos. Sea $S_{n}$ el evento la suma de las caras es $n$."
      ],
      "metadata": {
        "id": "LV_YVSpYDo5x"
      }
    },
    {
      "cell_type": "code",
      "source": [
        "from itertools import product\n",
        "from fractions import Fraction"
      ],
      "metadata": {
        "id": "3D7SUivV_XGG"
      },
      "execution_count": 20,
      "outputs": []
    },
    {
      "cell_type": "code",
      "source": [
        "def P(A, Omega):\n",
        "  P = Fraction(len(A), len(Omega) )\n",
        "  return P"
      ],
      "metadata": {
        "id": "NMZ4hgiKEIu0"
      },
      "execution_count": 21,
      "outputs": []
    },
    {
      "cell_type": "markdown",
      "source": [
        "$$S_{n}=\\{(i,j)\\in \\Omega : i+j =n \\}$$"
      ],
      "metadata": {
        "id": "c97Faj-dEfvz"
      }
    },
    {
      "cell_type": "code",
      "source": [
        "S_2 = {(i,j) for i in range(1,7) for j in range(1,7) if i+j == 2 }\n",
        "S_2"
      ],
      "metadata": {
        "colab": {
          "base_uri": "https://localhost:8080/"
        },
        "id": "xdKgALyfEdBJ",
        "outputId": "9e1a2bee-e38a-4782-c0eb-917492ad6c4d"
      },
      "execution_count": 22,
      "outputs": [
        {
          "output_type": "execute_result",
          "data": {
            "text/plain": [
              "{(1, 1)}"
            ]
          },
          "metadata": {},
          "execution_count": 22
        }
      ]
    },
    {
      "cell_type": "code",
      "source": [
        "L = [i for i in range(1,7)]\n",
        "\n",
        "Omega = set(product(L, repeat =2 ))\n",
        "Omega"
      ],
      "metadata": {
        "colab": {
          "base_uri": "https://localhost:8080/"
        },
        "id": "WiGgELw9FrJy",
        "outputId": "43d1c079-6c20-4ee0-ed4b-d19481d5c3e8"
      },
      "execution_count": 23,
      "outputs": [
        {
          "output_type": "execute_result",
          "data": {
            "text/plain": [
              "{(1, 1),\n",
              " (1, 2),\n",
              " (1, 3),\n",
              " (1, 4),\n",
              " (1, 5),\n",
              " (1, 6),\n",
              " (2, 1),\n",
              " (2, 2),\n",
              " (2, 3),\n",
              " (2, 4),\n",
              " (2, 5),\n",
              " (2, 6),\n",
              " (3, 1),\n",
              " (3, 2),\n",
              " (3, 3),\n",
              " (3, 4),\n",
              " (3, 5),\n",
              " (3, 6),\n",
              " (4, 1),\n",
              " (4, 2),\n",
              " (4, 3),\n",
              " (4, 4),\n",
              " (4, 5),\n",
              " (4, 6),\n",
              " (5, 1),\n",
              " (5, 2),\n",
              " (5, 3),\n",
              " (5, 4),\n",
              " (5, 5),\n",
              " (5, 6),\n",
              " (6, 1),\n",
              " (6, 2),\n",
              " (6, 3),\n",
              " (6, 4),\n",
              " (6, 5),\n",
              " (6, 6)}"
            ]
          },
          "metadata": {},
          "execution_count": 23
        }
      ]
    },
    {
      "cell_type": "code",
      "source": [
        "S = {(i,j): i+j for i,j in Omega}\n",
        "\n",
        "S"
      ],
      "metadata": {
        "colab": {
          "base_uri": "https://localhost:8080/"
        },
        "id": "i0vdEmDRFZG5",
        "outputId": "afa4da01-74b6-48ce-d342-c4b0a38814d4"
      },
      "execution_count": 24,
      "outputs": [
        {
          "output_type": "execute_result",
          "data": {
            "text/plain": [
              "{(3, 4): 7,\n",
              " (4, 3): 7,\n",
              " (3, 1): 4,\n",
              " (5, 4): 9,\n",
              " (4, 6): 10,\n",
              " (5, 1): 6,\n",
              " (2, 2): 4,\n",
              " (1, 6): 7,\n",
              " (2, 5): 7,\n",
              " (1, 3): 4,\n",
              " (6, 2): 8,\n",
              " (6, 5): 11,\n",
              " (4, 2): 6,\n",
              " (4, 5): 9,\n",
              " (3, 3): 6,\n",
              " (5, 6): 11,\n",
              " (3, 6): 9,\n",
              " (5, 3): 8,\n",
              " (2, 4): 6,\n",
              " (1, 2): 3,\n",
              " (2, 1): 3,\n",
              " (1, 5): 6,\n",
              " (6, 1): 7,\n",
              " (6, 4): 10,\n",
              " (3, 2): 5,\n",
              " (4, 1): 5,\n",
              " (3, 5): 8,\n",
              " (5, 2): 7,\n",
              " (4, 4): 8,\n",
              " (5, 5): 10,\n",
              " (1, 1): 2,\n",
              " (1, 4): 5,\n",
              " (2, 3): 5,\n",
              " (2, 6): 8,\n",
              " (6, 6): 12,\n",
              " (6, 3): 9}"
            ]
          },
          "metadata": {},
          "execution_count": 24
        }
      ]
    },
    {
      "cell_type": "code",
      "source": [
        "from collections import defaultdict\n",
        "\n",
        "dS = defaultdict(set)\n",
        "dS"
      ],
      "metadata": {
        "colab": {
          "base_uri": "https://localhost:8080/"
        },
        "id": "tCdZjkJ4GbQK",
        "outputId": "647f646f-7243-4c90-98be-eca8aab78722"
      },
      "execution_count": 25,
      "outputs": [
        {
          "output_type": "execute_result",
          "data": {
            "text/plain": [
              "defaultdict(set, {})"
            ]
          },
          "metadata": {},
          "execution_count": 25
        }
      ]
    },
    {
      "cell_type": "code",
      "source": [
        "for l, v in S.items():\n",
        "  dS[v].add(l)"
      ],
      "metadata": {
        "id": "0wQQasi-HYLf"
      },
      "execution_count": 26,
      "outputs": []
    },
    {
      "cell_type": "code",
      "source": [
        "dS"
      ],
      "metadata": {
        "colab": {
          "base_uri": "https://localhost:8080/"
        },
        "id": "LzTW-QyBHt-d",
        "outputId": "4421af6b-19e5-4ff3-cf6f-01207f046347"
      },
      "execution_count": 27,
      "outputs": [
        {
          "output_type": "execute_result",
          "data": {
            "text/plain": [
              "defaultdict(set,\n",
              "            {7: {(1, 6), (2, 5), (3, 4), (4, 3), (5, 2), (6, 1)},\n",
              "             4: {(1, 3), (2, 2), (3, 1)},\n",
              "             9: {(3, 6), (4, 5), (5, 4), (6, 3)},\n",
              "             10: {(4, 6), (5, 5), (6, 4)},\n",
              "             6: {(1, 5), (2, 4), (3, 3), (4, 2), (5, 1)},\n",
              "             8: {(2, 6), (3, 5), (4, 4), (5, 3), (6, 2)},\n",
              "             11: {(5, 6), (6, 5)},\n",
              "             3: {(1, 2), (2, 1)},\n",
              "             5: {(1, 4), (2, 3), (3, 2), (4, 1)},\n",
              "             2: {(1, 1)},\n",
              "             12: {(6, 6)}})"
            ]
          },
          "metadata": {},
          "execution_count": 27
        }
      ]
    },
    {
      "cell_type": "code",
      "source": [
        "leyS = {k : P(A,Omega) for k , A in dS.items() }\n",
        "leyS"
      ],
      "metadata": {
        "colab": {
          "base_uri": "https://localhost:8080/"
        },
        "id": "brD5YygqI8wf",
        "outputId": "2553af37-f1a3-427c-b8ac-8448fa12e714"
      },
      "execution_count": 28,
      "outputs": [
        {
          "output_type": "execute_result",
          "data": {
            "text/plain": [
              "{7: Fraction(1, 6),\n",
              " 4: Fraction(1, 12),\n",
              " 9: Fraction(1, 9),\n",
              " 10: Fraction(1, 12),\n",
              " 6: Fraction(5, 36),\n",
              " 8: Fraction(5, 36),\n",
              " 11: Fraction(1, 18),\n",
              " 3: Fraction(1, 18),\n",
              " 5: Fraction(1, 9),\n",
              " 2: Fraction(1, 36),\n",
              " 12: Fraction(1, 36)}"
            ]
          },
          "metadata": {},
          "execution_count": 28
        }
      ]
    },
    {
      "cell_type": "markdown",
      "source": [
        "## Introducción a pandas."
      ],
      "metadata": {
        "id": "zRJO-SbyJ2x0"
      }
    },
    {
      "cell_type": "code",
      "source": [
        "import pandas as pd"
      ],
      "metadata": {
        "id": "wOjQu9ZlJn09"
      },
      "execution_count": 29,
      "outputs": []
    },
    {
      "cell_type": "code",
      "source": [
        "leyS = pd.Series(leyS)\n",
        "leyS = leyS.sort_index()"
      ],
      "metadata": {
        "id": "VbH7OcRAKLxD"
      },
      "execution_count": 30,
      "outputs": []
    },
    {
      "cell_type": "code",
      "source": [
        "leyS"
      ],
      "metadata": {
        "colab": {
          "base_uri": "https://localhost:8080/"
        },
        "id": "LSep_uSVKps6",
        "outputId": "916655b9-9556-4beb-b600-899f533a6aec"
      },
      "execution_count": 31,
      "outputs": [
        {
          "output_type": "execute_result",
          "data": {
            "text/plain": [
              "2     1/36\n",
              "3     1/18\n",
              "4     1/12\n",
              "5      1/9\n",
              "6     5/36\n",
              "7      1/6\n",
              "8     5/36\n",
              "9      1/9\n",
              "10    1/12\n",
              "11    1/18\n",
              "12    1/36\n",
              "dtype: object"
            ]
          },
          "metadata": {},
          "execution_count": 31
        }
      ]
    },
    {
      "cell_type": "code",
      "source": [],
      "metadata": {
        "id": "mad5jQ5zK7in"
      },
      "execution_count": null,
      "outputs": []
    },
    {
      "cell_type": "markdown",
      "source": [],
      "metadata": {
        "id": "epJTT-ifopO3"
      }
    },
    {
      "cell_type": "markdown",
      "source": [
        "### Ejercicios:\n",
        "1.- Documenta tu colab.\n",
        "\n",
        "2.- Calcula la ley de las siguientes variables aleatorias:\n",
        "\n",
        "1.          - La diferencia de las caras sea mayor que $1$.\n",
        "\n",
        "    - La suma de las caras sea par.\n",
        "\n",
        "3.- Verifica, en cada caso, que $$\\sum_{k\\in R_{X}}\\mathbb{P}(X=x)=1.$$\n",
        "\n",
        "4.- Sube tu notebook a tu GitHub.\n",
        "\n",
        "\n"
      ],
      "metadata": {
        "id": "fqIGXqIiPZZM"
      }
    },
    {
      "cell_type": "code",
      "source": [],
      "metadata": {
        "id": "O137dfCFQ4FX"
      },
      "execution_count": null,
      "outputs": []
    },
    {
      "cell_type": "markdown",
      "source": [
        "Ejercicio 1: La diferencia de las caras sea mayor a 1\n",
        "$$S_{n}=\\{(i,j)\\in \\Omega : abs(i+j) >1 \\}$$\n"
      ],
      "metadata": {
        "id": "U1xo-a0spcG6"
      }
    },
    {
      "cell_type": "markdown",
      "source": [
        "\\#### Creando el diccionario"
      ],
      "metadata": {
        "id": "iky_7eRUgxP4"
      }
    },
    {
      "cell_type": "code",
      "source": [
        "E_1_2 = {(i,j) : abs(i-j) for i,j in Omega}\n",
        "E_1_2"
      ],
      "metadata": {
        "id": "_5fKPEJqqUaG",
        "colab": {
          "base_uri": "https://localhost:8080/"
        },
        "outputId": "ed25a0f9-5ac6-4b66-c43a-2888e354a487"
      },
      "execution_count": 12,
      "outputs": [
        {
          "output_type": "execute_result",
          "data": {
            "text/plain": [
              "{(3, 4): 1,\n",
              " (4, 3): 1,\n",
              " (3, 1): 2,\n",
              " (5, 4): 1,\n",
              " (4, 6): 2,\n",
              " (5, 1): 4,\n",
              " (2, 2): 0,\n",
              " (1, 6): 5,\n",
              " (2, 5): 3,\n",
              " (1, 3): 2,\n",
              " (6, 2): 4,\n",
              " (6, 5): 1,\n",
              " (4, 2): 2,\n",
              " (4, 5): 1,\n",
              " (3, 3): 0,\n",
              " (5, 6): 1,\n",
              " (3, 6): 3,\n",
              " (5, 3): 2,\n",
              " (2, 4): 2,\n",
              " (1, 2): 1,\n",
              " (2, 1): 1,\n",
              " (1, 5): 4,\n",
              " (6, 1): 5,\n",
              " (6, 4): 2,\n",
              " (3, 2): 1,\n",
              " (4, 1): 3,\n",
              " (3, 5): 2,\n",
              " (5, 2): 3,\n",
              " (4, 4): 0,\n",
              " (5, 5): 0,\n",
              " (1, 1): 0,\n",
              " (1, 4): 3,\n",
              " (2, 3): 1,\n",
              " (2, 6): 4,\n",
              " (6, 6): 0,\n",
              " (6, 3): 3}"
            ]
          },
          "metadata": {},
          "execution_count": 12
        }
      ]
    },
    {
      "cell_type": "code",
      "source": [
        "# Creando un nuevo conjunto manipulable\n",
        "dE_1_2 = defaultdict(set)\n",
        "# Invirtiendo diccionarios y juntando\n",
        "for l, v in E_1_2.items():\n",
        "  dE_1_2[v].add(l)\n",
        "dE_1_2"
      ],
      "metadata": {
        "colab": {
          "base_uri": "https://localhost:8080/"
        },
        "id": "rFNwEm4ShCU6",
        "outputId": "5b6f2f0b-e074-4107-e683-56719e6e7cf2"
      },
      "execution_count": 13,
      "outputs": [
        {
          "output_type": "execute_result",
          "data": {
            "text/plain": [
              "defaultdict(set,\n",
              "            {1: {(1, 2),\n",
              "              (2, 1),\n",
              "              (2, 3),\n",
              "              (3, 2),\n",
              "              (3, 4),\n",
              "              (4, 3),\n",
              "              (4, 5),\n",
              "              (5, 4),\n",
              "              (5, 6),\n",
              "              (6, 5)},\n",
              "             2: {(1, 3),\n",
              "              (2, 4),\n",
              "              (3, 1),\n",
              "              (3, 5),\n",
              "              (4, 2),\n",
              "              (4, 6),\n",
              "              (5, 3),\n",
              "              (6, 4)},\n",
              "             4: {(1, 5), (2, 6), (5, 1), (6, 2)},\n",
              "             0: {(1, 1), (2, 2), (3, 3), (4, 4), (5, 5), (6, 6)},\n",
              "             5: {(1, 6), (6, 1)},\n",
              "             3: {(1, 4), (2, 5), (3, 6), (4, 1), (5, 2), (6, 3)}})"
            ]
          },
          "metadata": {},
          "execution_count": 13
        }
      ]
    },
    {
      "cell_type": "code",
      "source": [
        "leyE_1_2 = {k : P(A,Omega) for k , A in dE_1_2.items() }\n",
        "leyE_1_2"
      ],
      "metadata": {
        "id": "yr9KO0GRhH9i",
        "outputId": "1dc7c8ad-3132-4fb0-fb73-2d809e0bcbe4",
        "colab": {
          "base_uri": "https://localhost:8080/"
        }
      },
      "execution_count": 32,
      "outputs": [
        {
          "output_type": "execute_result",
          "data": {
            "text/plain": [
              "{1: Fraction(5, 18),\n",
              " 2: Fraction(2, 9),\n",
              " 4: Fraction(1, 9),\n",
              " 0: Fraction(1, 6),\n",
              " 5: Fraction(1, 18),\n",
              " 3: Fraction(1, 6)}"
            ]
          },
          "metadata": {},
          "execution_count": 32
        }
      ]
    },
    {
      "cell_type": "code",
      "source": [
        "leyE_1_2S = pd.Series(leyE_1_2)\n",
        "leyE_1_2S = leyE_1_2S.sort_index()\n",
        "leyE_1_2S"
      ],
      "metadata": {
        "colab": {
          "base_uri": "https://localhost:8080/"
        },
        "id": "0LMT5e0EDIVX",
        "outputId": "13beb5e7-adcb-440b-e1f5-cdec5436839f"
      },
      "execution_count": 33,
      "outputs": [
        {
          "output_type": "execute_result",
          "data": {
            "text/plain": [
              "0     1/6\n",
              "1    5/18\n",
              "2     2/9\n",
              "3     1/6\n",
              "4     1/9\n",
              "5    1/18\n",
              "dtype: object"
            ]
          },
          "metadata": {},
          "execution_count": 33
        }
      ]
    },
    {
      "cell_type": "code",
      "source": [
        "#Comprobando al sumar todas las probabilidades de las posibles sumas:\n",
        "sum(leyE_1_2S)"
      ],
      "metadata": {
        "colab": {
          "base_uri": "https://localhost:8080/"
        },
        "id": "3oRmcjv-EJUs",
        "outputId": "d96a62d8-83f8-4478-e1a3-d5592a7bf3fd"
      },
      "execution_count": 34,
      "outputs": [
        {
          "output_type": "execute_result",
          "data": {
            "text/plain": [
              "Fraction(1, 1)"
            ]
          },
          "metadata": {},
          "execution_count": 34
        }
      ]
    },
    {
      "cell_type": "code",
      "source": [],
      "metadata": {
        "id": "TBWYohG0EV29"
      },
      "execution_count": null,
      "outputs": []
    },
    {
      "cell_type": "markdown",
      "source": [
        "Ejercicio 2: La suma de las caras sea par\n"
      ],
      "metadata": {
        "id": "jlHanWznG452"
      }
    },
    {
      "cell_type": "code",
      "source": [
        "#Creando diccionario\n",
        "Par = {(i,j): (i+j) % 2 == 0 for i,j in Omega}\n",
        "Par"
      ],
      "metadata": {
        "colab": {
          "base_uri": "https://localhost:8080/"
        },
        "id": "JrJ0IMyXHdEc",
        "outputId": "f8f1fdce-d03a-4d72-c453-1b1783f26ad3"
      },
      "execution_count": 37,
      "outputs": [
        {
          "output_type": "execute_result",
          "data": {
            "text/plain": [
              "{(3, 4): False,\n",
              " (4, 3): False,\n",
              " (3, 1): True,\n",
              " (5, 4): False,\n",
              " (4, 6): True,\n",
              " (5, 1): True,\n",
              " (2, 2): True,\n",
              " (1, 6): False,\n",
              " (2, 5): False,\n",
              " (1, 3): True,\n",
              " (6, 2): True,\n",
              " (6, 5): False,\n",
              " (4, 2): True,\n",
              " (4, 5): False,\n",
              " (3, 3): True,\n",
              " (5, 6): False,\n",
              " (3, 6): False,\n",
              " (5, 3): True,\n",
              " (2, 4): True,\n",
              " (1, 2): False,\n",
              " (2, 1): False,\n",
              " (1, 5): True,\n",
              " (6, 1): False,\n",
              " (6, 4): True,\n",
              " (3, 2): False,\n",
              " (4, 1): False,\n",
              " (3, 5): True,\n",
              " (5, 2): False,\n",
              " (4, 4): True,\n",
              " (5, 5): True,\n",
              " (1, 1): True,\n",
              " (1, 4): False,\n",
              " (2, 3): False,\n",
              " (2, 6): True,\n",
              " (6, 6): True,\n",
              " (6, 3): False}"
            ]
          },
          "metadata": {},
          "execution_count": 37
        }
      ]
    },
    {
      "cell_type": "code",
      "source": [
        "dPar = defaultdict(set)\n",
        "for l, v in Par.items():\n",
        "  dPar[v].add(l)\n",
        "dPar"
      ],
      "metadata": {
        "colab": {
          "base_uri": "https://localhost:8080/"
        },
        "id": "pxUo2jlII_fz",
        "outputId": "9399212e-6348-4f1d-8941-f091687876c7"
      },
      "execution_count": 38,
      "outputs": [
        {
          "output_type": "execute_result",
          "data": {
            "text/plain": [
              "defaultdict(set,\n",
              "            {False: {(1, 2),\n",
              "              (1, 4),\n",
              "              (1, 6),\n",
              "              (2, 1),\n",
              "              (2, 3),\n",
              "              (2, 5),\n",
              "              (3, 2),\n",
              "              (3, 4),\n",
              "              (3, 6),\n",
              "              (4, 1),\n",
              "              (4, 3),\n",
              "              (4, 5),\n",
              "              (5, 2),\n",
              "              (5, 4),\n",
              "              (5, 6),\n",
              "              (6, 1),\n",
              "              (6, 3),\n",
              "              (6, 5)},\n",
              "             True: {(1, 1),\n",
              "              (1, 3),\n",
              "              (1, 5),\n",
              "              (2, 2),\n",
              "              (2, 4),\n",
              "              (2, 6),\n",
              "              (3, 1),\n",
              "              (3, 3),\n",
              "              (3, 5),\n",
              "              (4, 2),\n",
              "              (4, 4),\n",
              "              (4, 6),\n",
              "              (5, 1),\n",
              "              (5, 3),\n",
              "              (5, 5),\n",
              "              (6, 2),\n",
              "              (6, 4),\n",
              "              (6, 6)}})"
            ]
          },
          "metadata": {},
          "execution_count": 38
        }
      ]
    },
    {
      "cell_type": "code",
      "source": [
        "#Calculando las probabilidades\n",
        "leyPar = {k : P(A,Omega) for k , A in dPar.items() }\n",
        "leyPar"
      ],
      "metadata": {
        "colab": {
          "base_uri": "https://localhost:8080/"
        },
        "id": "WkN3QHKaJE7b",
        "outputId": "dd6f5e8c-8684-458d-8922-970064cb3d3d"
      },
      "execution_count": 39,
      "outputs": [
        {
          "output_type": "execute_result",
          "data": {
            "text/plain": [
              "{False: Fraction(1, 2), True: Fraction(1, 2)}"
            ]
          },
          "metadata": {},
          "execution_count": 39
        }
      ]
    }
  ]
}